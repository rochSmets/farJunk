{
 "cells": [
  {
   "cell_type": "code",
   "execution_count": 1,
   "id": "2b38a501",
   "metadata": {},
   "outputs": [],
   "source": [
    "import sys\n",
    "import os\n",
    "sys.path.append(\"/home/smets/codes/far/PHARE/pyphare/\")\n",
    "import pyphare\n",
    "import matplotlib.pyplot as plt\n",
    "from pyphare.pharesee.run import Run\n",
    "from pyphare.core.operators import dot, cross, sqrt, modulus\n",
    "from pyphare.pharesee.hierarchy import rename\n",
    "import numpy as np\n",
    "%matplotlib inline"
   ]
  },
  {
   "cell_type": "code",
   "execution_count": 2,
   "id": "0f51832e",
   "metadata": {},
   "outputs": [
    {
     "data": {
      "text/plain": [
       "['harris.py',\n",
       " 'job.sh',\n",
       " 'checks',\n",
       " '.log',\n",
       " 'ions_density.h5',\n",
       " 'ions_bulkVelocity.h5',\n",
       " 'ions_pop_protons_density.h5',\n",
       " 'ions_pop_protons_flux.h5',\n",
       " 'EM_E.h5',\n",
       " 'EM_B.h5',\n",
       " 'ions_pop_protons_domain.h5']"
      ]
     },
     "execution_count": 2,
     "metadata": {},
     "output_type": "execute_result"
    }
   ],
   "source": [
    "# run_path = \"/DATA/phare/harris/tiny\" # Tiny Harris run on kaa\n",
    "run_path = \"/home/smets/codes/far/farMe/Harris/tiny/run\"\n",
    "os.listdir(run_path)"
   ]
  },
  {
   "cell_type": "code",
   "execution_count": 3,
   "id": "b66f1d63",
   "metadata": {},
   "outputs": [],
   "source": [
    "run  = Run(run_path)\n",
    "time = 0.0"
   ]
  },
  {
   "cell_type": "code",
   "execution_count": 4,
   "id": "aa5cbf9a",
   "metadata": {},
   "outputs": [
    {
     "data": {
      "text/plain": [
       "pyphare.pharesee.hierarchy.PatchHierarchy"
      ]
     },
     "execution_count": 4,
     "metadata": {},
     "output_type": "execute_result"
    }
   ],
   "source": [
    "b = run.GetB(time, all_primal=False)\n",
    "type(b)"
   ]
  },
  {
   "cell_type": "code",
   "execution_count": 5,
   "id": "79b16a6b",
   "metadata": {},
   "outputs": [
    {
     "data": {
      "text/plain": [
       "['Bx', 'By', 'Bz']"
      ]
     },
     "execution_count": 5,
     "metadata": {},
     "output_type": "execute_result"
    }
   ],
   "source": [
    "b.get_names()"
   ]
  },
  {
   "cell_type": "code",
   "execution_count": 6,
   "id": "82d8bc88",
   "metadata": {},
   "outputs": [
    {
     "name": "stdout",
     "output_type": "stream",
     "text": [
      "names      : ['Bx', 'By', 'Bz']\n",
      "id         : p0#0\n",
      "box        : Box([0, 0],[40, 99])\n",
      "size [Bx]  : [ 46 104]   -   ['primal', 'dual']\n",
      "size [By]  : [ 45 105]   -   ['dual', 'primal']\n",
      "size [Bz]  : [ 45 104]   -   ['dual', 'dual']\n",
      " --- \n"
     ]
    }
   ],
   "source": [
    "for ilvl, lvl in b.levels(time).items():\n",
    "    for patch in lvl.patches:\n",
    "        names = list(patch.patch_datas.keys())\n",
    "        print('names      : {}'.format(names))\n",
    "        print(\"id         : {}\".format(patch.id))\n",
    "        print(\"box        : {}\".format(patch.patch_datas[list(patch.patch_datas.keys())[0]].box))\n",
    "        for name in names:\n",
    "            pdata = patch.patch_datas[name]\n",
    "            # print(\"name       : {}\".format(name))\n",
    "            print(\"size [{}]  : {}   -   {}\".format(name, pdata.size, pdata.centerings))\n",
    "        print(\" --- \")\n",
    "        break"
   ]
  },
  {
   "cell_type": "code",
   "execution_count": 7,
   "id": "9af2fa14",
   "metadata": {},
   "outputs": [
    {
     "data": {
      "text/plain": [
       "(<Figure size 640x480 with 2 Axes>, <AxesSubplot: xlabel='x', ylabel='y'>)"
      ]
     },
     "execution_count": 7,
     "metadata": {},
     "output_type": "execute_result"
    },
    {
     "data": {
      "image/png": "[encoded data removed]",
      "text/plain": [
       "<Figure size 640x480 with 2 Axes>"
      ]
     },
     "metadata": {},
     "output_type": "display_data"
    }
   ],
   "source": [
    "b.plot(qty='Bx',\n",
    "       vmin=-1.2,\n",
    "       vmax=1.2,\n",
    "       cmap='viridis')"
   ]
  },
  {
   "cell_type": "code",
   "execution_count": 8,
   "id": "423c5bb7",
   "metadata": {},
   "outputs": [
    {
     "data": {
      "text/plain": [
       "pyphare.pharesee.hierarchy.VectorField"
      ]
     },
     "execution_count": 8,
     "metadata": {},
     "output_type": "execute_result"
    }
   ],
   "source": [
    "B = run.GetB(time, all_primal=True)\n",
    "type(B)"
   ]
  },
  {
   "cell_type": "code",
   "execution_count": 9,
   "id": "84a62839",
   "metadata": {},
   "outputs": [
    {
     "name": "stdout",
     "output_type": "stream",
     "text": [
      "names      : ['x', 'y', 'z']\n",
      "id         : p0#0\n",
      "box        : Box([0, 0],[40, 99])\n",
      "size [x]  : [ 46 105]   -   ['primal', 'primal']\n",
      "size [y]  : [ 46 105]   -   ['primal', 'primal']\n",
      "size [z]  : [ 46 105]   -   ['primal', 'primal']\n",
      " --- \n"
     ]
    }
   ],
   "source": [
    "for ilvl, lvl in B.levels(time).items():\n",
    "    for patch in lvl.patches:\n",
    "        names = list(patch.patch_datas.keys())\n",
    "        print('names      : {}'.format(names))\n",
    "        print(\"id         : {}\".format(patch.id))\n",
    "        print(\"box        : {}\".format(patch.patch_datas[list(patch.patch_datas.keys())[0]].box))\n",
    "        for name in names:\n",
    "            pdata = patch.patch_datas[name]\n",
    "            print(\"size [{}]  : {}   -   {}\".format(name, pdata.size, pdata.centerings))\n",
    "        print(\" --- \")\n",
    "        break"
   ]
  },
  {
   "cell_type": "code",
   "execution_count": 10,
   "id": "06aa0921",
   "metadata": {},
   "outputs": [
    {
     "data": {
      "text/plain": [
       "(<Figure size 640x480 with 2 Axes>, <AxesSubplot: xlabel='x', ylabel='y'>)"
      ]
     },
     "execution_count": 10,
     "metadata": {},
     "output_type": "execute_result"
    },
    {
     "data": {
      "image/png": "[encoded data removed]",
      "text/plain": [
       "<Figure size 640x480 with 2 Axes>"
      ]
     },
     "metadata": {},
     "output_type": "display_data"
    }
   ],
   "source": [
    "B.plot(qty='x',\n",
    "       vmin=-1.2,\n",
    "       vmax=1.2,\n",
    "       cmap='viridis')"
   ]
  },
  {
   "cell_type": "code",
   "execution_count": 11,
   "id": "91a134d4",
   "metadata": {},
   "outputs": [],
   "source": [
    "c = dot(B, B)"
   ]
  },
  {
   "cell_type": "code",
   "execution_count": 12,
   "id": "a5e5e041",
   "metadata": {},
   "outputs": [],
   "source": [
    "d = sqrt(c)"
   ]
  },
  {
   "cell_type": "code",
   "execution_count": 13,
   "id": "6cfcad9a",
   "metadata": {},
   "outputs": [
    {
     "data": {
      "text/plain": [
       "(<Figure size 640x480 with 2 Axes>, <AxesSubplot: xlabel='x', ylabel='y'>)"
      ]
     },
     "execution_count": 13,
     "metadata": {},
     "output_type": "execute_result"
    },
    {
     "data": {
      "image/png": "[encoded data removed]",
      "text/plain": [
       "<Figure size 640x480 with 2 Axes>"
      ]
     },
     "metadata": {},
     "output_type": "display_data"
    }
   ],
   "source": [
    "d.plot(qty='scalar',\n",
    "       vmin=0.,\n",
    "       vmax=1.,\n",
    "       cmap='viridis')"
   ]
  },
  {
   "cell_type": "code",
   "execution_count": 14,
   "id": "2f7ca463",
   "metadata": {},
   "outputs": [],
   "source": [
    "e = modulus(B)"
   ]
  },
  {
   "cell_type": "code",
   "execution_count": 15,
   "id": "a44f8690",
   "metadata": {},
   "outputs": [
    {
     "data": {
      "text/plain": [
       "(<Figure size 640x480 with 2 Axes>, <AxesSubplot: xlabel='x', ylabel='y'>)"
      ]
     },
     "execution_count": 15,
     "metadata": {},
     "output_type": "execute_result"
    },
    {
     "data": {
      "image/png": "[encoded data removed]",
      "text/plain": [
       "<Figure size 640x480 with 2 Axes>"
      ]
     },
     "metadata": {},
     "output_type": "display_data"
    }
   ],
   "source": [
    "e.plot(qty='scalar',\n",
    "       vmin=0.,\n",
    "       vmax=1.,\n",
    "       cmap='viridis')"
   ]
  },
  {
   "cell_type": "code",
   "execution_count": 16,
   "id": "b501bd11",
   "metadata": {},
   "outputs": [],
   "source": [
    "e = 2*B"
   ]
  },
  {
   "cell_type": "code",
   "execution_count": 17,
   "id": "2dd6e497",
   "metadata": {},
   "outputs": [
    {
     "data": {
      "text/plain": [
       "(<Figure size 640x480 with 2 Axes>, <AxesSubplot: xlabel='x', ylabel='y'>)"
      ]
     },
     "execution_count": 17,
     "metadata": {},
     "output_type": "execute_result"
    },
    {
     "data": {
      "image/png": "[encoded data removed]",
      "text/plain": [
       "<Figure size 640x480 with 2 Axes>"
      ]
     },
     "metadata": {},
     "output_type": "display_data"
    }
   ],
   "source": [
    "e.plot(qty='x',\n",
    "       vmin=-2.2,\n",
    "       vmax=2.2,\n",
    "       cmap='viridis')"
   ]
  },
  {
   "cell_type": "code",
   "execution_count": 18,
   "id": "9d6206e3",
   "metadata": {},
   "outputs": [],
   "source": [
    "f=B*2"
   ]
  },
  {
   "cell_type": "code",
   "execution_count": 19,
   "id": "e80fd6d3",
   "metadata": {},
   "outputs": [
    {
     "data": {
      "text/plain": [
       "pyphare.pharesee.hierarchy.VectorField"
      ]
     },
     "execution_count": 19,
     "metadata": {},
     "output_type": "execute_result"
    }
   ],
   "source": [
    "type(f)"
   ]
  },
  {
   "cell_type": "code",
   "execution_count": 20,
   "id": "fb40d00c",
   "metadata": {},
   "outputs": [],
   "source": [
    "E = run.GetE(time, all_primal=True)"
   ]
  },
  {
   "cell_type": "code",
   "execution_count": 21,
   "id": "23f62d0e",
   "metadata": {},
   "outputs": [],
   "source": [
    "g = cross(E, B)"
   ]
  },
  {
   "cell_type": "code",
   "execution_count": 24,
   "id": "a52aee1e",
   "metadata": {},
   "outputs": [
    {
     "data": {
      "text/plain": [
       "(<Figure size 640x480 with 2 Axes>, <AxesSubplot: xlabel='x', ylabel='y'>)"
      ]
     },
     "execution_count": 24,
     "metadata": {},
     "output_type": "execute_result"
    },
    {
     "data": {
      "image/png": "[encoded data removed]",
      "text/plain": [
       "<Figure size 640x480 with 2 Axes>"
      ]
     },
     "metadata": {},
     "output_type": "display_data"
    }
   ],
   "source": [
    "g.plot(qty='x',\n",
    "       vmin=-0.02,\n",
    "       vmax=0.02,\n",
    "       cmap='viridis')"
   ]
  },
  {
   "cell_type": "code",
   "execution_count": null,
   "id": "4b48634b",
   "metadata": {},
   "outputs": [],
   "source": []
  },
  {
   "cell_type": "code",
   "execution_count": null,
   "id": "b88c883d",
   "metadata": {},
   "outputs": [],
   "source": []
  },
  {
   "cell_type": "code",
   "execution_count": null,
   "id": "e182e28f",
   "metadata": {},
   "outputs": [],
   "source": []
  },
  {
   "cell_type": "code",
   "execution_count": null,
   "id": "c2af5180",
   "metadata": {},
   "outputs": [],
   "source": []
  },
  {
   "cell_type": "code",
   "execution_count": null,
   "id": "29ae4127",
   "metadata": {},
   "outputs": [],
   "source": []
  },
  {
   "cell_type": "code",
   "execution_count": null,
   "id": "4c174405",
   "metadata": {},
   "outputs": [],
   "source": []
  },
  {
   "cell_type": "code",
   "execution_count": null,
   "id": "03277810",
   "metadata": {},
   "outputs": [],
   "source": []
  },
  {
   "cell_type": "code",
   "execution_count": null,
   "id": "fa115a4a",
   "metadata": {},
   "outputs": [],
   "source": []
  },
  {
   "cell_type": "code",
   "execution_count": null,
   "id": "8f5e8433",
   "metadata": {},
   "outputs": [],
   "source": []
  },
  {
   "cell_type": "code",
   "execution_count": null,
   "id": "d7283649",
   "metadata": {},
   "outputs": [],
   "source": []
  },
  {
   "cell_type": "code",
   "execution_count": null,
   "id": "4b98e467",
   "metadata": {},
   "outputs": [],
   "source": []
  },
  {
   "cell_type": "code",
   "execution_count": null,
   "id": "25510c3b",
   "metadata": {},
   "outputs": [],
   "source": []
  },
  {
   "cell_type": "code",
   "execution_count": null,
   "id": "a38cc808",
   "metadata": {},
   "outputs": [],
   "source": []
  },
  {
   "cell_type": "code",
   "execution_count": null,
   "id": "4692fbd9",
   "metadata": {},
   "outputs": [],
   "source": []
  },
  {
   "cell_type": "code",
   "execution_count": null,
   "id": "714f93f1",
   "metadata": {},
   "outputs": [],
   "source": []
  },
  {
   "cell_type": "code",
   "execution_count": null,
   "id": "179c5e33",
   "metadata": {},
   "outputs": [],
   "source": []
  },
  {
   "cell_type": "code",
   "execution_count": null,
   "id": "0c51acf9",
   "metadata": {},
   "outputs": [],
   "source": []
  },
  {
   "cell_type": "code",
   "execution_count": null,
   "id": "0debe6ca",
   "metadata": {},
   "outputs": [],
   "source": [
    "import h5py\n",
    "f=h5py.File(os.path.join(run_path, 'EM_B.h5'), 'r')\n",
    "print(list(f.keys()))\n",
    "print(list(f['t'].keys()))\n",
    "print(list(f['t']['2.0000000000'].keys()))"
   ]
  },
  {
   "cell_type": "code",
   "execution_count": null,
   "id": "988d4058",
   "metadata": {},
   "outputs": [],
   "source": []
  }
 ],
 "metadata": {
  "kernelspec": {
   "display_name": "Python 3 (ipykernel)",
   "language": "python",
   "name": "python3"
  },
  "language_info": {
   "codemirror_mode": {
    "name": "ipython",
    "version": 3
   },
   "file_extension": ".py",
   "mimetype": "text/x-python",
   "name": "python",
   "nbconvert_exporter": "python",
   "pygments_lexer": "ipython3",
   "version": "3.11.6"
  }
 },
 "nbformat": 4,
 "nbformat_minor": 5
}
