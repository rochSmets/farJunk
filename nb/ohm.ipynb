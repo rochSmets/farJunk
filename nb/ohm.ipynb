{
 "cells": [
  {
   "cell_type": "code",
   "execution_count": 1,
   "id": "2b38a501",
   "metadata": {},
   "outputs": [],
   "source": [
    "\n",
    "\n",
    "import sys\n",
    "import os\n",
    "sys.path.append(\"/home/smets/codes/far/PHARE/pyphare/\")\n",
    "import pyphare\n",
    "import matplotlib.pyplot as plt\n",
    "from pyphare.pharesee.run import Run\n",
    "from pyphare.core.operators import dot, cross, sqrt, modulus, grad\n",
    "from pyphare.pharesee.hierarchy import rename\n",
    "import numpy as np\n",
    "%matplotlib inline"
   ]
  },
  {
   "cell_type": "code",
   "execution_count": 2,
   "id": "0f51832e",
   "metadata": {},
   "outputs": [
    {
     "data": {
      "text/plain": [
       "['harris.py',\n",
       " 'job.sh',\n",
       " 'checks',\n",
       " '.log',\n",
       " 'ions_density.h5',\n",
       " 'ions_bulkVelocity.h5',\n",
       " 'ions_pop_protons_density.h5',\n",
       " 'ions_pop_protons_flux.h5',\n",
       " 'EM_E.h5',\n",
       " 'EM_B.h5',\n",
       " 'ions_pop_protons_domain.h5',\n",
       " '__pycache__']"
      ]
     },
     "execution_count": 2,
     "metadata": {},
     "output_type": "execute_result"
    }
   ],
   "source": [
    "# run_path = \"/DATA/phare/harris/tiny\" # Tiny Harris run on kaa\n",
    "run_path = \"/home/smets/codes/far/farMe/Harris/tiny/run\"\n",
    "os.listdir(run_path)"
   ]
  },
  {
   "cell_type": "code",
   "execution_count": 3,
   "id": "b66f1d63",
   "metadata": {},
   "outputs": [],
   "source": [
    "run  = Run(run_path)\n",
    "time = 0.0"
   ]
  },
  {
   "cell_type": "code",
   "execution_count": 4,
   "id": "aa5cbf9a",
   "metadata": {},
   "outputs": [
    {
     "data": {
      "text/plain": [
       "pyphare.pharesee.hierarchy.PatchHierarchy"
      ]
     },
     "execution_count": 4,
     "metadata": {},
     "output_type": "execute_result"
    }
   ],
   "source": [
    "b = run.GetB(time, all_primal=False)\n",
    "type(b)"
   ]
  },
  {
   "cell_type": "code",
   "execution_count": 5,
   "id": "6de17e1d",
   "metadata": {},
   "outputs": [],
   "source": [
    "sys.path.append(run_path)\n",
    "import harris\n",
    "from pyphare.simulator.simulator import Simulator"
   ]
  },
  {
   "cell_type": "code",
   "execution_count": 6,
   "id": "fc69b915",
   "metadata": {},
   "outputs": [
    {
     "name": "stdout",
     "output_type": "stream",
     "text": [
      "validating dim=2\n",
      "2d periodic validation\n",
      "validating direction ... 0\n",
      "direction 0 is periodic?\n",
      "checked vx : fL = 0.0 and fR = 0.0 and check = True\n",
      "checked vy : fL = 0.0 and fR = 0.0 and check = True\n",
      "checked vz : fL = 0.0 and fR = 0.0 and check = True\n",
      "checked vthx : fL = [0.70710678 0.70710678 0.70710678 0.70710678] and fR = [0.70710678 0.70710678 0.70710678 0.70710678] and check = True\n",
      "checked vthy : fL = [0.70710678 0.70710678 0.70710678 0.70710678] and fR = [0.70710678 0.70710678 0.70710678 0.70710678] and check = True\n",
      "checked vthz : fL = [0.70710678 0.70710678 0.70710678 0.70710678] and fR = [0.70710678 0.70710678 0.70710678 0.70710678] and check = True\n",
      "validating direction ... 1\n",
      "direction 1 is periodic?\n",
      "checked vx : fL = 0.0 and fR = 0.0 and check = True\n",
      "checked vy : fL = 0.0 and fR = 0.0 and check = True\n",
      "checked vz : fL = 0.0 and fR = 0.0 and check = True\n",
      "checked vthx : fL = [0.70710678 0.70710678 0.70710678 0.70710678] and fR = [0.70710678 0.70710678 0.70710678 0.70710678] and check = True\n",
      "checked vthy : fL = [0.70710678 0.70710678 0.70710678 0.70710678] and fR = [0.70710678 0.70710678 0.70710678 0.70710678] and check = True\n",
      "checked vthz : fL = [0.70710678 0.70710678 0.70710678 0.70710678] and fR = [0.70710678 0.70710678 0.70710678 0.70710678] and check = True\n"
     ]
    }
   ],
   "source": [
    "conf = harris.config()"
   ]
  },
  {
   "cell_type": "code",
   "execution_count": 10,
   "id": "02696f30",
   "metadata": {},
   "outputs": [
    {
     "data": {
      "text/plain": [
       "['In',\n",
       " 'Out',\n",
       " 'Run',\n",
       " 'Simulator',\n",
       " '_',\n",
       " '_2',\n",
       " '_4',\n",
       " '_8',\n",
       " '_9',\n",
       " '__',\n",
       " '___',\n",
       " '__builtin__',\n",
       " '__builtins__',\n",
       " '__doc__',\n",
       " '__loader__',\n",
       " '__name__',\n",
       " '__package__',\n",
       " '__spec__',\n",
       " '_dh',\n",
       " '_i',\n",
       " '_i1',\n",
       " '_i10',\n",
       " '_i2',\n",
       " '_i3',\n",
       " '_i4',\n",
       " '_i5',\n",
       " '_i6',\n",
       " '_i7',\n",
       " '_i8',\n",
       " '_i9',\n",
       " '_ih',\n",
       " '_ii',\n",
       " '_iii',\n",
       " '_oh',\n",
       " 'b',\n",
       " 'conf',\n",
       " 'cross',\n",
       " 'dot',\n",
       " 'exit',\n",
       " 'get_ipython',\n",
       " 'grad',\n",
       " 'harris',\n",
       " 'modulus',\n",
       " 'np',\n",
       " 'os',\n",
       " 'plt',\n",
       " 'pyphare',\n",
       " 'quit',\n",
       " 'rename',\n",
       " 'run',\n",
       " 'run_path',\n",
       " 'sqrt',\n",
       " 'sys',\n",
       " 'time']"
      ]
     },
     "execution_count": 10,
     "metadata": {},
     "output_type": "execute_result"
    }
   ],
   "source": [
    "dir()"
   ]
  },
  {
   "cell_type": "code",
   "execution_count": null,
   "id": "e1409887",
   "metadata": {},
   "outputs": [],
   "source": [
    "sim = Simulator(conf)"
   ]
  },
  {
   "cell_type": "code",
   "execution_count": null,
   "id": "5be46f24",
   "metadata": {},
   "outputs": [],
   "source": [
    "sim.reset()"
   ]
  },
  {
   "cell_type": "raw",
   "id": "0f9f185f",
   "metadata": {},
   "source": []
  },
  {
   "cell_type": "code",
   "execution_count": null,
   "id": "4369c2ca",
   "metadata": {},
   "outputs": [],
   "source": []
  },
  {
   "cell_type": "code",
   "execution_count": null,
   "id": "31e037cd",
   "metadata": {},
   "outputs": [],
   "source": []
  },
  {
   "cell_type": "code",
   "execution_count": null,
   "id": "4ca3f534",
   "metadata": {},
   "outputs": [],
   "source": []
  },
  {
   "cell_type": "code",
   "execution_count": null,
   "id": "79b16a6b",
   "metadata": {},
   "outputs": [],
   "source": [
    "b.get_names()"
   ]
  },
  {
   "cell_type": "code",
   "execution_count": null,
   "id": "82d8bc88",
   "metadata": {},
   "outputs": [],
   "source": [
    "for ilvl, lvl in b.levels(time).items():\n",
    "    for patch in lvl.patches:\n",
    "        names = list(patch.patch_datas.keys())\n",
    "        print('names      : {}'.format(names))\n",
    "        print(\"id         : {}\".format(patch.id))\n",
    "        print(\"box        : {}\".format(patch.patch_datas[list(patch.patch_datas.keys())[0]].box))\n",
    "        for name in names:\n",
    "            pdata = patch.patch_datas[name]\n",
    "            # print(\"name       : {}\".format(name))\n",
    "            print(\"size [{}]  : {}   -   {}\".format(name, pdata.size, pdata.centerings))\n",
    "        print(\" --- \")\n",
    "        break"
   ]
  },
  {
   "cell_type": "code",
   "execution_count": null,
   "id": "9af2fa14",
   "metadata": {},
   "outputs": [],
   "source": [
    "b.plot(qty='Bx',\n",
    "       # vmin=-1.2,\n",
    "       # vmax=1.2,\n",
    "       cmap='viridis')"
   ]
  },
  {
   "cell_type": "code",
   "execution_count": null,
   "id": "423c5bb7",
   "metadata": {},
   "outputs": [],
   "source": [
    "B = run.GetB(time, all_primal=True)\n",
    "type(B)"
   ]
  },
  {
   "cell_type": "code",
   "execution_count": null,
   "id": "84a62839",
   "metadata": {},
   "outputs": [],
   "source": [
    "for ilvl, lvl in B.levels(time).items():\n",
    "    for patch in lvl.patches:\n",
    "        names = list(patch.patch_datas.keys())\n",
    "        print('names      : {}'.format(names))\n",
    "        print(\"id         : {}\".format(patch.id))\n",
    "        print(\"box        : {}\".format(patch.patch_datas[list(patch.patch_datas.keys())[0]].box))\n",
    "        for name in names:\n",
    "            pdata = patch.patch_datas[name]\n",
    "            print(\"size [{}]  : {}   -   {}\".format(name, pdata.size, pdata.centerings))\n",
    "        print(\" --- \")\n",
    "        break"
   ]
  },
  {
   "cell_type": "code",
   "execution_count": null,
   "id": "06aa0921",
   "metadata": {},
   "outputs": [],
   "source": [
    "B.plot(qty='x',\n",
    "       # vmin=-1.2,\n",
    "       # vmax=1.2,\n",
    "       cmap='viridis')"
   ]
  },
  {
   "cell_type": "code",
   "execution_count": null,
   "id": "91a134d4",
   "metadata": {},
   "outputs": [],
   "source": [
    "c = dot(B, B)"
   ]
  },
  {
   "cell_type": "code",
   "execution_count": null,
   "id": "a5e5e041",
   "metadata": {},
   "outputs": [],
   "source": [
    "d = sqrt(c)"
   ]
  },
  {
   "cell_type": "code",
   "execution_count": null,
   "id": "6cfcad9a",
   "metadata": {},
   "outputs": [],
   "source": [
    "d.plot(qty='scalar',\n",
    "       # vmin=0.,\n",
    "       # vmax=1.,\n",
    "       cmap='viridis')"
   ]
  },
  {
   "cell_type": "code",
   "execution_count": null,
   "id": "2f7ca463",
   "metadata": {},
   "outputs": [],
   "source": [
    "e = modulus(B)"
   ]
  },
  {
   "cell_type": "code",
   "execution_count": null,
   "id": "a44f8690",
   "metadata": {},
   "outputs": [],
   "source": [
    "e.plot(qty='scalar',\n",
    "       # vmin=0.,\n",
    "       # vmax=1.,\n",
    "       cmap='viridis')"
   ]
  },
  {
   "cell_type": "code",
   "execution_count": null,
   "id": "b501bd11",
   "metadata": {},
   "outputs": [],
   "source": [
    "e = 2*B"
   ]
  },
  {
   "cell_type": "code",
   "execution_count": null,
   "id": "2dd6e497",
   "metadata": {},
   "outputs": [],
   "source": [
    "e.plot(qty='x',\n",
    "       # vmin=-2.2,\n",
    "       # vmax=2.2,\n",
    "       cmap='viridis')"
   ]
  },
  {
   "cell_type": "code",
   "execution_count": null,
   "id": "9d6206e3",
   "metadata": {},
   "outputs": [],
   "source": [
    "f=B*2"
   ]
  },
  {
   "cell_type": "code",
   "execution_count": null,
   "id": "e80fd6d3",
   "metadata": {},
   "outputs": [],
   "source": [
    "type(f)"
   ]
  },
  {
   "cell_type": "code",
   "execution_count": null,
   "id": "fb40d00c",
   "metadata": {},
   "outputs": [],
   "source": [
    "E = run.GetE(time, all_primal=True)"
   ]
  },
  {
   "cell_type": "code",
   "execution_count": null,
   "id": "23f62d0e",
   "metadata": {},
   "outputs": [],
   "source": [
    "g = cross(E, B)"
   ]
  },
  {
   "cell_type": "code",
   "execution_count": null,
   "id": "a52aee1e",
   "metadata": {},
   "outputs": [],
   "source": [
    "g.plot(qty='z',\n",
    "       # vmin=-0.02,\n",
    "       # vmax=0.02,\n",
    "       cmap='viridis')"
   ]
  },
  {
   "cell_type": "code",
   "execution_count": null,
   "id": "4b48634b",
   "metadata": {},
   "outputs": [],
   "source": [
    "i = -B"
   ]
  },
  {
   "cell_type": "code",
   "execution_count": null,
   "id": "b88c883d",
   "metadata": {},
   "outputs": [],
   "source": [
    "i.plot(qty='x',\n",
    "       # vmin=-0.02,\n",
    "       # vmax=0.02,\n",
    "       cmap='viridis')"
   ]
  },
  {
   "cell_type": "code",
   "execution_count": null,
   "id": "29ae4127",
   "metadata": {},
   "outputs": [],
   "source": [
    "N = run.GetNi(time, all_primal=True)"
   ]
  },
  {
   "cell_type": "code",
   "execution_count": null,
   "id": "4c174405",
   "metadata": {},
   "outputs": [],
   "source": [
    "type(N)"
   ]
  },
  {
   "cell_type": "code",
   "execution_count": null,
   "id": "7b195f6c",
   "metadata": {},
   "outputs": [],
   "source": [
    "for ilvl, lvl in N.levels(time).items():\n",
    "    for patch in lvl.patches:\n",
    "        names = list(patch.patch_datas.keys())\n",
    "        print('names      : {}'.format(names))\n",
    "        print(\"id         : {}\".format(patch.id))\n",
    "        print(\"box        : {}\".format(patch.patch_datas[list(patch.patch_datas.keys())[0]].box))\n",
    "        for name in names:\n",
    "            pdata = patch.patch_datas[name]\n",
    "            # print(\"name       : {}\".format(name))\n",
    "            print(\"size [{}]  : {}   -   {}\".format(name, pdata.size, pdata.centerings))\n",
    "        print(\" --- \")\n",
    "        break"
   ]
  },
  {
   "cell_type": "code",
   "execution_count": null,
   "id": "03277810",
   "metadata": {},
   "outputs": [],
   "source": [
    "j = B/(100*N)"
   ]
  },
  {
   "cell_type": "code",
   "execution_count": null,
   "id": "fa115a4a",
   "metadata": {},
   "outputs": [],
   "source": [
    "j.plot(qty='x',\n",
    "       # vmin=-0.2,\n",
    "       # vmax=0.2,\n",
    "       cmap='viridis')"
   ]
  },
  {
   "cell_type": "code",
   "execution_count": null,
   "id": "8f5e8433",
   "metadata": {},
   "outputs": [],
   "source": [
    "P = run.GetPe(time, all_primal=True)"
   ]
  },
  {
   "cell_type": "code",
   "execution_count": null,
   "id": "d7283649",
   "metadata": {},
   "outputs": [],
   "source": [
    "P.plot(qty='scalar',\n",
    "       #  vmin=0.4,\n",
    "       #vmax=1.2,\n",
    "       cmap='viridis')"
   ]
  },
  {
   "cell_type": "code",
   "execution_count": null,
   "id": "4b98e467",
   "metadata": {},
   "outputs": [],
   "source": [
    "q = grad(P)"
   ]
  },
  {
   "cell_type": "code",
   "execution_count": null,
   "id": "25510c3b",
   "metadata": {},
   "outputs": [],
   "source": [
    "type(q)"
   ]
  },
  {
   "cell_type": "code",
   "execution_count": null,
   "id": "f6d5d2e8",
   "metadata": {},
   "outputs": [],
   "source": [
    "q.plot(qty='y',\n",
    "       # vmin=-0.1,\n",
    "       # vmax=+0.1,\n",
    "       cmap='viridis')"
   ]
  },
  {
   "cell_type": "code",
   "execution_count": null,
   "id": "1e21e323",
   "metadata": {},
   "outputs": [],
   "source": [
    "r = grad(P)/N"
   ]
  },
  {
   "cell_type": "code",
   "execution_count": null,
   "id": "dc49e6e0",
   "metadata": {},
   "outputs": [],
   "source": [
    "r.plot(qty='y',\n",
    "       # vmin=-0.1,\n",
    "       # vmax=+0.1,\n",
    "       cmap='viridis')"
   ]
  },
  {
   "cell_type": "code",
   "execution_count": null,
   "id": "036f8f93",
   "metadata": {},
   "outputs": [],
   "source": []
  },
  {
   "cell_type": "code",
   "execution_count": null,
   "id": "2720ca64",
   "metadata": {},
   "outputs": [],
   "source": []
  },
  {
   "cell_type": "code",
   "execution_count": null,
   "id": "ddcc1d0c",
   "metadata": {},
   "outputs": [],
   "source": []
  },
  {
   "cell_type": "code",
   "execution_count": null,
   "id": "051a492e",
   "metadata": {},
   "outputs": [],
   "source": []
  },
  {
   "cell_type": "code",
   "execution_count": null,
   "id": "714f93f1",
   "metadata": {},
   "outputs": [],
   "source": []
  },
  {
   "cell_type": "code",
   "execution_count": null,
   "id": "179c5e33",
   "metadata": {},
   "outputs": [],
   "source": []
  },
  {
   "cell_type": "code",
   "execution_count": null,
   "id": "0c51acf9",
   "metadata": {},
   "outputs": [],
   "source": []
  },
  {
   "cell_type": "code",
   "execution_count": 20,
   "id": "0debe6ca",
   "metadata": {},
   "outputs": [
    {
     "name": "stdout",
     "output_type": "stream",
     "text": [
      "['py_attrs', 't']\n",
      "ValuesViewHDF5(<HDF5 group \"/py_attrs\" (0 members)>)\n"
     ]
    }
   ],
   "source": [
    "import h5py\n",
    "f=h5py.File(os.path.join(run_path, 'EM_B.h5'), 'r')\n",
    "print(list(f.keys()))\n",
    "# print(list(f['t'].keys()))\n",
    "# print(list(f['t']['2.0000000000'].keys()))\n",
    "print(f['py_attrs'].values())"
   ]
  },
  {
   "cell_type": "code",
   "execution_count": null,
   "id": "988d4058",
   "metadata": {},
   "outputs": [],
   "source": []
  },
  {
   "cell_type": "code",
   "execution_count": null,
   "id": "199a964c",
   "metadata": {},
   "outputs": [],
   "source": []
  }
 ],
 "metadata": {
  "kernelspec": {
   "display_name": "Python 3 (ipykernel)",
   "language": "python",
   "name": "python3"
  },
  "language_info": {
   "codemirror_mode": {
    "name": "ipython",
    "version": 3
   },
   "file_extension": ".py",
   "mimetype": "text/x-python",
   "name": "python",
   "nbconvert_exporter": "python",
   "pygments_lexer": "ipython3",
   "version": "3.11.6"
  }
 },
 "nbformat": 4,
 "nbformat_minor": 5
}
