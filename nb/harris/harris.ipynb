{
 "cells": [
  {
   "cell_type": "code",
   "execution_count": null,
   "metadata": {},
   "outputs": [],
   "source": [
    "import numpy as np\n",
    "import matplotlib.pyplot as plt\n",
    "from pyphare.pharesee.plotting import finest_field_plot\n",
    "import os\n",
    "from pyphare.pharesee.hierarchy import get_times_from_h5\n",
    "from pyphare.pharesee.run import Run"
   ]
  },
  {
   "cell_type": "code",
   "execution_count": null,
   "metadata": {},
   "outputs": [],
   "source": [
    "run_path= \"/home/smets/codeS/fAr/pharebook/harris/harris1d_refin\"\n",
    "r = Run(run_path)"
   ]
  },
  {
   "cell_type": "code",
   "execution_count": null,
   "metadata": {},
   "outputs": [],
   "source": [
    "file = os.path.join(run_path, \"EM_B.h5\")\n",
    "times = get_times_from_h5(file)\n",
    "time = times[0]"
   ]
  },
  {
   "cell_type": "code",
   "execution_count": null,
   "metadata": {},
   "outputs": [],
   "source": [
    "fig, ax = finest_field_plot(run_path=run_path,\n",
    "                            qty='By',\n",
    "                            time=time,\n",
    "                            interp='nearest',\n",
    "                            xlabel='X - axis',\n",
    "                            ylabel='$B_x$',\n",
    "                            drawstyle='default',\n",
    "                            title='zobi la mouche')"
   ]
  },
  {
   "cell_type": "code",
   "execution_count": null,
   "metadata": {},
   "outputs": [],
   "source": [
    "fig.savefig(\"finest.pdf\", bbox_inches='tight')"
   ]
  },
  {
   "cell_type": "code",
   "execution_count": null,
   "metadata": {},
   "outputs": [],
   "source": [
    "interpolator, finest_coords = r.GetB(time, merged=True, interp='nearest')['By']\n",
    "\n",
    "plt.plot(finest_coords[0], interpolator(finest_coords[0]), drawstyle='steps-mid')"
   ]
  },
  {
   "cell_type": "code",
   "execution_count": null,
   "metadata": {},
   "outputs": [],
   "source": []
  },
  {
   "cell_type": "code",
   "execution_count": null,
   "metadata": {},
   "outputs": [],
   "source": [
    "run_path = \"/home/smets/codeS/fAr/pharebook/harris/harris2d_refin\"\n",
    "r = Run(run_path)"
   ]
  },
  {
   "cell_type": "code",
   "execution_count": null,
   "metadata": {},
   "outputs": [],
   "source": [
    "fig, ax = finest_field_plot(run_path=run_path,\n",
    "                            qty='Bx',\n",
    "                            time=time,\n",
    "                            interp='nearest',\n",
    "                            xlabel='X - axis',\n",
    "                            ylabel='$B_x$',\n",
    "                            drawstyle='default',\n",
    "                            title='zobi la mouche')"
   ]
  },
  {
   "cell_type": "code",
   "execution_count": null,
   "metadata": {},
   "outputs": [],
   "source": [
    "fig.savefig(\"finest.pdf\", bbox_inches='tight')"
   ]
  },
  {
   "cell_type": "code",
   "execution_count": null,
   "metadata": {},
   "outputs": [],
   "source": [
    "interpolator, finest_coords = r.GetB(time, merged=True, interp='nearest')['Bx']\n",
    "\n",
    "X, Y = np.meshgrid(finest_coords[0], finest_coords[1])\n",
    "DATA = interpolator(X, Y)\n",
    "\n",
    "plt.imshow(DATA, aspect = 'equal',\n",
    "           interpolation = 'nearest',\n",
    "           cmap = 'viridis',\n",
    "           origin = 'lower')"
   ]
  },
  {
   "cell_type": "code",
   "execution_count": null,
   "metadata": {},
   "outputs": [],
   "source": []
  }
 ],
 "metadata": {
  "kernelspec": {
   "display_name": "phare",
   "language": "python",
   "name": "phare"
  },
  "language_info": {
   "codemirror_mode": {
    "name": "ipython",
    "version": 3
   },
   "file_extension": ".py",
   "mimetype": "text/x-python",
   "name": "python",
   "nbconvert_exporter": "python",
   "pygments_lexer": "ipython3",
   "version": "3.7.10"
  }
 },
 "nbformat": 4,
 "nbformat_minor": 4
}
