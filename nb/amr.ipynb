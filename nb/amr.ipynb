{
 "cells": [
  {
   "cell_type": "markdown",
   "metadata": {},
   "source": [
    "## AMR scaling"
   ]
  },
  {
   "cell_type": "markdown",
   "metadata": {},
   "source": [
    "We consider $\\Gamma$ levels including $L_0$. The finest level is $f = \\Gamma-1$. The dimension is $d$ and the splitting is $s$, that is 1 particle is splitted in $s$, whatever the dimension. The total CPU time is proportional to the product of the number of time step, the number of cells and the number of particles pe cell."
   ]
  },
  {
   "cell_type": "markdown",
   "metadata": {},
   "source": [
    "On $L_0$, the time step is $\\Delta t$, total time is $T$, the total number of cells is $N_C$ (whatever the dimension) and the number of particles per cell is $N_P$. Hence, the total CPU time for L_0 is\n",
    "$$\n",
    "t_0 = N_c \\frac{T}{\\Delta t} N_p\n",
    "$$"
   ]
  },
  {
   "cell_type": "markdown",
   "metadata": {},
   "source": [
    "At the level l, this value turns to be\n",
    "$$\n",
    "t_l = (N_c 2^{dl}) . \\left( \\frac{4^l T}{\\Delta t} \\right) \\left( N_p \\left( \\frac{s}{2} \\right)^{dl} \\right)\n",
    "$$"
   ]
  },
  {
   "cell_type": "markdown",
   "metadata": {},
   "source": [
    "If the full domain is described at the finest level $f$, the total CPU for full $L_f$ is\n",
    "$$\n",
    "t_f = (N_c 2^{df}) . \\left( \\frac{4^f T}{\\Delta t} \\right) \\left( N_p \\left( \\frac{s}{2} \\right)^{df} \\right)\n",
    "$$"
   ]
  },
  {
   "cell_type": "markdown",
   "metadata": {},
   "source": [
    "For the AMR run, it will be of the form $t_0 + \\alpha_1 t_1 + \\alpha_2 t_2... + \\alpha_f t_f$. Then,\n",
    "$$\n",
    "\\frac{t_f}{t_{AMR}} = \\frac{(4s^d)^f}{1+\\sum_{l=1}^f \\alpha_l (4s^d)^l}\n",
    "$$"
   ]
  }
 ],
 "metadata": {
  "kernelspec": {
   "display_name": "Python 3",
   "language": "python",
   "name": "python3"
  },
  "language_info": {
   "codemirror_mode": {
    "name": "ipython",
    "version": 3
   },
   "file_extension": ".py",
   "mimetype": "text/x-python",
   "name": "python",
   "nbconvert_exporter": "python",
   "pygments_lexer": "ipython3",
   "version": "3.9.2"
  }
 },
 "nbformat": 4,
 "nbformat_minor": 4
}
