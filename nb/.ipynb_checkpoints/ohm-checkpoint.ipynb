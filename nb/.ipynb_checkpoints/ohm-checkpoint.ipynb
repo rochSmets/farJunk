{
 "cells": [
  {
   "cell_type": "code",
   "execution_count": 1,
   "id": "2b38a501",
   "metadata": {},
   "outputs": [],
   "source": [
    "import sys\n",
    "import os\n",
    "sys.path.append(\"/home/smets/codes/far/PHARE/pyphare/\")\n",
    "import pyphare\n",
    "import matplotlib.pyplot as plt\n",
    "from pyphare.pharesee.run import Run\n",
    "from pyphare.core.operators import dot, cross, sqrt, modulus, grad\n",
    "from pyphare.pharesee.hierarchy import rename\n",
    "import numpy as np\n",
    "%matplotlib inline"
   ]
  },
  {
   "cell_type": "code",
   "execution_count": 2,
   "id": "0f51832e",
   "metadata": {},
   "outputs": [
    {
     "data": {
      "text/plain": [
       "['checks',\n",
       " '.log',\n",
       " '__pycache__',\n",
       " 'EM_B.h5',\n",
       " 'EM_E.h5',\n",
       " 'harris.py',\n",
       " 'ions_bulkVelocity.h5',\n",
       " 'ions_density.h5',\n",
       " 'ions_mass_density.h5',\n",
       " 'ions_pop_protons_density.h5',\n",
       " 'ions_pop_protons_domain.h5',\n",
       " 'ions_pop_protons_flux.h5',\n",
       " 'job.sh']"
      ]
     },
     "execution_count": 2,
     "metadata": {},
     "output_type": "execute_result"
    }
   ],
   "source": [
    "# run_path = \"/DATA/phare/harris/tiny\" # Tiny Harris run on kaa\n",
    "run_path = \"/home/smets/codes/far/farMe/Harris/tiny/run\"\n",
    "os.listdir(run_path)"
   ]
  },
  {
   "cell_type": "code",
   "execution_count": 3,
   "id": "b66f1d63",
   "metadata": {},
   "outputs": [],
   "source": [
    "run  = Run(run_path)\n",
    "time = 0.0"
   ]
  },
  {
   "cell_type": "code",
   "execution_count": 4,
   "id": "aa5cbf9a",
   "metadata": {},
   "outputs": [
    {
     "data": {
      "text/plain": [
       "pyphare.pharesee.hierarchy.PatchHierarchy"
      ]
     },
     "execution_count": 4,
     "metadata": {},
     "output_type": "execute_result"
    }
   ],
   "source": [
    "v = run.GetVi(time)\n",
    "b = run.GetB(time, all_primal=False)\n",
    "type(b)"
   ]
  },
  {
   "cell_type": "code",
   "execution_count": 5,
   "id": "79b16a6b",
   "metadata": {},
   "outputs": [
    {
     "data": {
      "text/plain": [
       "['Vx', 'Vy', 'Vz']"
      ]
     },
     "execution_count": 5,
     "metadata": {},
     "output_type": "execute_result"
    }
   ],
   "source": [
    "v.get_names()"
   ]
  },
  {
   "cell_type": "code",
   "execution_count": 6,
   "id": "82d8bc88",
   "metadata": {},
   "outputs": [
    {
     "name": "stdout",
     "output_type": "stream",
     "text": [
      "names      : ['Vx', 'Vy', 'Vz']\n",
      "id         : p0#0\n",
      "box        : Box([0, 0],[57, 57])\n",
      "size [Vx]  : [63 63]   -   ['primal', 'primal']\n",
      "size [Vy]  : [63 63]   -   ['primal', 'primal']\n",
      "size [Vz]  : [63 63]   -   ['primal', 'primal']\n",
      " --- \n"
     ]
    }
   ],
   "source": [
    "for ilvl, lvl in v.levels(time).items():\n",
    "    for patch in lvl.patches:\n",
    "        names = list(patch.patch_datas.keys())\n",
    "        print('names      : {}'.format(names))\n",
    "        print(\"id         : {}\".format(patch.id))\n",
    "        print(\"box        : {}\".format(patch.patch_datas[list(patch.patch_datas.keys())[0]].box))\n",
    "        for name in names:\n",
    "            pdata = patch.patch_datas[name]\n",
    "            # print(\"name       : {}\".format(name))\n",
    "            print(\"size [{}]  : {}   -   {}\".format(name, pdata.size, pdata.centerings))\n",
    "        print(\" --- \")\n",
    "        break"
   ]
  },
  {
   "cell_type": "code",
   "execution_count": 7,
   "id": "e7342e84",
   "metadata": {},
   "outputs": [],
   "source": [
    "w = dot(v, v)"
   ]
  },
  {
   "cell_type": "code",
   "execution_count": 8,
   "id": "c0833d19",
   "metadata": {},
   "outputs": [
    {
     "data": {
      "text/plain": [
       "pyphare.pharesee.hierarchy.VectorField"
      ]
     },
     "execution_count": 8,
     "metadata": {},
     "output_type": "execute_result"
    }
   ],
   "source": [
    "type(v)"
   ]
  },
  {
   "cell_type": "code",
   "execution_count": 9,
   "id": "44355bb2",
   "metadata": {},
   "outputs": [
    {
     "name": "stdout",
     "output_type": "stream",
     "text": [
      "names      : ['Vx', 'Vy', 'Vz']\n",
      "id         : p0#0\n",
      "box        : Box([0, 0],[57, 57])\n",
      "size [Vx]  : [63 63]   -   ['primal', 'primal']\n",
      "size [Vy]  : [63 63]   -   ['primal', 'primal']\n",
      "size [Vz]  : [63 63]   -   ['primal', 'primal']\n",
      " --- \n"
     ]
    }
   ],
   "source": [
    "for ilvl, lvl in v.levels(time).items():\n",
    "    for patch in lvl.patches:\n",
    "        names = list(patch.patch_datas.keys())\n",
    "        print('names      : {}'.format(names))\n",
    "        print(\"id         : {}\".format(patch.id))\n",
    "        print(\"box        : {}\".format(patch.patch_datas[list(patch.patch_datas.keys())[0]].box))\n",
    "        for name in names:\n",
    "            pdata = patch.patch_datas[name]\n",
    "            # print(\"name       : {}\".format(name))\n",
    "            print(\"size [{}]  : {}   -   {}\".format(name, pdata.size, pdata.centerings))\n",
    "        print(\" --- \")\n",
    "        break"
   ]
  },
  {
   "cell_type": "code",
   "execution_count": 10,
   "id": "9af2fa14",
   "metadata": {},
   "outputs": [
    {
     "data": {
      "text/plain": [
       "(<Figure size 640x480 with 2 Axes>, <AxesSubplot: xlabel='x', ylabel='y'>)"
      ]
     },
     "execution_count": 10,
     "metadata": {},
     "output_type": "execute_result"
    },
    {
     "data": {
      "image/png": "[encoded data removed]",
      "text/plain": [
       "<Figure size 640x480 with 2 Axes>"
      ]
     },
     "metadata": {},
     "output_type": "display_data"
    }
   ],
   "source": [
    "b.plot(qty='Bx',\n",
    "       # vmin=-1.2,\n",
    "       # vmax=1.2,\n",
    "       cmap='viridis')"
   ]
  },
  {
   "cell_type": "code",
   "execution_count": 11,
   "id": "423c5bb7",
   "metadata": {},
   "outputs": [
    {
     "data": {
      "text/plain": [
       "pyphare.pharesee.hierarchy.VectorField"
      ]
     },
     "execution_count": 11,
     "metadata": {},
     "output_type": "execute_result"
    }
   ],
   "source": [
    "B = run.GetB(time, all_primal=True)\n",
    "type(B)"
   ]
  },
  {
   "cell_type": "code",
   "execution_count": 12,
   "id": "84a62839",
   "metadata": {},
   "outputs": [
    {
     "name": "stdout",
     "output_type": "stream",
     "text": [
      "names      : ['x', 'y', 'z']\n",
      "id         : p0#0\n",
      "box        : Box([0, 0],[57, 57])\n",
      "size [x]  : [63 63]   -   ['primal', 'primal']\n",
      "size [y]  : [63 63]   -   ['primal', 'primal']\n",
      "size [z]  : [63 63]   -   ['primal', 'primal']\n",
      " --- \n"
     ]
    }
   ],
   "source": [
    "for ilvl, lvl in B.levels(time).items():\n",
    "    for patch in lvl.patches:\n",
    "        names = list(patch.patch_datas.keys())\n",
    "        print('names      : {}'.format(names))\n",
    "        print(\"id         : {}\".format(patch.id))\n",
    "        print(\"box        : {}\".format(patch.patch_datas[list(patch.patch_datas.keys())[0]].box))\n",
    "        for name in names:\n",
    "            pdata = patch.patch_datas[name]\n",
    "            print(\"size [{}]  : {}   -   {}\".format(name, pdata.size, pdata.centerings))\n",
    "        print(\" --- \")\n",
    "        break"
   ]
  },
  {
   "cell_type": "code",
   "execution_count": 13,
   "id": "06aa0921",
   "metadata": {},
   "outputs": [
    {
     "data": {
      "text/plain": [
       "(<Figure size 640x480 with 2 Axes>, <AxesSubplot: xlabel='x', ylabel='y'>)"
      ]
     },
     "execution_count": 13,
     "metadata": {},
     "output_type": "execute_result"
    },
    {
     "data": {
      "image/png": "[encoded data removed]",
      "text/plain": [
       "<Figure size 640x480 with 2 Axes>"
      ]
     },
     "metadata": {},
     "output_type": "display_data"
    }
   ],
   "source": [
    "B.plot(qty='x',\n",
    "       # vmin=-1.2,\n",
    "       # vmax=1.2,\n",
    "       cmap='viridis')"
   ]
  },
  {
   "cell_type": "code",
   "execution_count": 14,
   "id": "91a134d4",
   "metadata": {},
   "outputs": [],
   "source": [
    "c = dot(B, B)"
   ]
  },
  {
   "cell_type": "code",
   "execution_count": 15,
   "id": "a5e5e041",
   "metadata": {},
   "outputs": [],
   "source": [
    "d = sqrt(c)"
   ]
  },
  {
   "cell_type": "code",
   "execution_count": 16,
   "id": "6cfcad9a",
   "metadata": {},
   "outputs": [
    {
     "data": {
      "text/plain": [
       "(<Figure size 640x480 with 2 Axes>, <AxesSubplot: xlabel='x', ylabel='y'>)"
      ]
     },
     "execution_count": 16,
     "metadata": {},
     "output_type": "execute_result"
    },
    {
     "data": {
      "image/png": "[encoded data removed]",
      "text/plain": [
       "<Figure size 640x480 with 2 Axes>"
      ]
     },
     "metadata": {},
     "output_type": "display_data"
    }
   ],
   "source": [
    "d.plot(qty='value',\n",
    "       # vmin=0.,\n",
    "       # vmax=1.,\n",
    "       cmap='viridis')"
   ]
  },
  {
   "cell_type": "code",
   "execution_count": 17,
   "id": "d3bc053a",
   "metadata": {},
   "outputs": [
    {
     "ename": "AttributeError",
     "evalue": "'ScalarField' object has no attribute 'value'",
     "output_type": "error",
     "traceback": [
      "\u001b[0;31m---------------------------------------------------------------------------\u001b[0m",
      "\u001b[0;31mAttributeError\u001b[0m                            Traceback (most recent call last)",
      "Cell \u001b[0;32mIn[17], line 1\u001b[0m\n\u001b[0;32m----> 1\u001b[0m \u001b[43md\u001b[49m\u001b[38;5;241;43m.\u001b[39;49m\u001b[43mvalue\u001b[49m\u001b[38;5;241m.\u001b[39mplot(\n\u001b[1;32m      2\u001b[0m        \u001b[38;5;66;03m# vmin=0.,\u001b[39;00m\n\u001b[1;32m      3\u001b[0m        \u001b[38;5;66;03m# vmax=1.,\u001b[39;00m\n\u001b[1;32m      4\u001b[0m        cmap\u001b[38;5;241m=\u001b[39m\u001b[38;5;124m'\u001b[39m\u001b[38;5;124mviridis\u001b[39m\u001b[38;5;124m'\u001b[39m)\n",
      "\u001b[0;31mAttributeError\u001b[0m: 'ScalarField' object has no attribute 'value'"
     ]
    }
   ],
   "source": [
    "d.value.plot(\n",
    "       # vmin=0.,\n",
    "       # vmax=1.,\n",
    "       cmap='viridis')"
   ]
  },
  {
   "cell_type": "code",
   "execution_count": 18,
   "id": "581c07a5",
   "metadata": {},
   "outputs": [
    {
     "data": {
      "text/plain": [
       "<pyphare.pharesee.hierarchy.PatchHierarchy at 0x7f2d8ddb9fd0>"
      ]
     },
     "execution_count": 18,
     "metadata": {},
     "output_type": "execute_result"
    }
   ],
   "source": [
    "B.x"
   ]
  },
  {
   "cell_type": "code",
   "execution_count": 19,
   "id": "2f7ca463",
   "metadata": {},
   "outputs": [],
   "source": [
    "e = modulus(B)"
   ]
  },
  {
   "cell_type": "code",
   "execution_count": 20,
   "id": "a44f8690",
   "metadata": {},
   "outputs": [
    {
     "data": {
      "text/plain": [
       "(<Figure size 640x480 with 2 Axes>, <AxesSubplot: xlabel='x', ylabel='y'>)"
      ]
     },
     "execution_count": 20,
     "metadata": {},
     "output_type": "execute_result"
    },
    {
     "data": {
      "image/png": "[encoded data removed]",
      "text/plain": [
       "<Figure size 640x480 with 2 Axes>"
      ]
     },
     "metadata": {},
     "output_type": "display_data"
    }
   ],
   "source": [
    "e.plot(qty='value',\n",
    "       # vmin=0.,\n",
    "       # vmax=1.,\n",
    "       cmap='viridis')"
   ]
  },
  {
   "cell_type": "code",
   "execution_count": 21,
   "id": "b501bd11",
   "metadata": {},
   "outputs": [],
   "source": [
    "e = 2*B"
   ]
  },
  {
   "cell_type": "code",
   "execution_count": 22,
   "id": "2dd6e497",
   "metadata": {},
   "outputs": [
    {
     "data": {
      "text/plain": [
       "(<Figure size 640x480 with 2 Axes>, <AxesSubplot: xlabel='x', ylabel='y'>)"
      ]
     },
     "execution_count": 22,
     "metadata": {},
     "output_type": "execute_result"
    },
    {
     "data": {
      "image/png": "[encoded data removed]",
      "text/plain": [
       "<Figure size 640x480 with 2 Axes>"
      ]
     },
     "metadata": {},
     "output_type": "display_data"
    }
   ],
   "source": [
    "e.plot(qty='x',\n",
    "       # vmin=-2.2,\n",
    "       # vmax=2.2,\n",
    "       cmap='viridis')"
   ]
  },
  {
   "cell_type": "code",
   "execution_count": 23,
   "id": "9d6206e3",
   "metadata": {},
   "outputs": [],
   "source": [
    "f=B*2"
   ]
  },
  {
   "cell_type": "code",
   "execution_count": 24,
   "id": "e80fd6d3",
   "metadata": {},
   "outputs": [
    {
     "data": {
      "text/plain": [
       "pyphare.pharesee.hierarchy.VectorField"
      ]
     },
     "execution_count": 24,
     "metadata": {},
     "output_type": "execute_result"
    }
   ],
   "source": [
    "type(f)"
   ]
  },
  {
   "cell_type": "code",
   "execution_count": 25,
   "id": "fb40d00c",
   "metadata": {},
   "outputs": [],
   "source": [
    "E = run.GetE(time, all_primal=True)"
   ]
  },
  {
   "cell_type": "code",
   "execution_count": 26,
   "id": "23f62d0e",
   "metadata": {},
   "outputs": [],
   "source": [
    "g = cross(E, B)"
   ]
  },
  {
   "cell_type": "code",
   "execution_count": 27,
   "id": "a52aee1e",
   "metadata": {},
   "outputs": [
    {
     "data": {
      "text/plain": [
       "(<Figure size 640x480 with 2 Axes>, <AxesSubplot: xlabel='x', ylabel='y'>)"
      ]
     },
     "execution_count": 27,
     "metadata": {},
     "output_type": "execute_result"
    },
    {
     "data": {
      "image/png": "[encoded data removed]",
      "text/plain": [
       "<Figure size 640x480 with 2 Axes>"
      ]
     },
     "metadata": {},
     "output_type": "display_data"
    }
   ],
   "source": [
    "g.plot(qty='z',\n",
    "       # vmin=-0.02,\n",
    "       # vmax=0.02,\n",
    "       cmap='viridis')"
   ]
  },
  {
   "cell_type": "code",
   "execution_count": 28,
   "id": "4b48634b",
   "metadata": {},
   "outputs": [],
   "source": [
    "i = -B"
   ]
  },
  {
   "cell_type": "code",
   "execution_count": 29,
   "id": "b88c883d",
   "metadata": {},
   "outputs": [
    {
     "data": {
      "text/plain": [
       "(<Figure size 640x480 with 2 Axes>, <AxesSubplot: xlabel='x', ylabel='y'>)"
      ]
     },
     "execution_count": 29,
     "metadata": {},
     "output_type": "execute_result"
    },
    {
     "data": {
      "image/png": "[encoded data removed]",
      "text/plain": [
       "<Figure size 640x480 with 2 Axes>"
      ]
     },
     "metadata": {},
     "output_type": "display_data"
    }
   ],
   "source": [
    "i.plot(qty='x',\n",
    "       # vmin=-0.02,\n",
    "       # vmax=0.02,\n",
    "       cmap='viridis')"
   ]
  },
  {
   "cell_type": "code",
   "execution_count": 30,
   "id": "29ae4127",
   "metadata": {},
   "outputs": [],
   "source": [
    "N = run.GetNi(time, all_primal=True)"
   ]
  },
  {
   "cell_type": "code",
   "execution_count": 31,
   "id": "4c174405",
   "metadata": {},
   "outputs": [
    {
     "ename": "AttributeError",
     "evalue": "'ScalarField' object has no attribute 'value'",
     "output_type": "error",
     "traceback": [
      "\u001b[0;31m---------------------------------------------------------------------------\u001b[0m",
      "\u001b[0;31mAttributeError\u001b[0m                            Traceback (most recent call last)",
      "Cell \u001b[0;32mIn[31], line 3\u001b[0m\n\u001b[1;32m      1\u001b[0m \u001b[38;5;28mtype\u001b[39m(N)\n\u001b[1;32m      2\u001b[0m N\u001b[38;5;241m.\u001b[39mquantities()\n\u001b[0;32m----> 3\u001b[0m \u001b[43mN\u001b[49m\u001b[38;5;241;43m.\u001b[39;49m\u001b[43mvalue\u001b[49m\n",
      "\u001b[0;31mAttributeError\u001b[0m: 'ScalarField' object has no attribute 'value'"
     ]
    }
   ],
   "source": [
    "type(N)\n",
    "N.quantities()\n",
    "N.value"
   ]
  },
  {
   "cell_type": "code",
   "execution_count": 32,
   "id": "7b195f6c",
   "metadata": {},
   "outputs": [
    {
     "name": "stdout",
     "output_type": "stream",
     "text": [
      "names      : ['value']\n",
      "id         : p0#0\n",
      "box        : Box([0, 0],[57, 57])\n",
      "size [value]  : [63 63]   -   ['primal', 'primal']\n",
      " --- \n"
     ]
    }
   ],
   "source": [
    "for ilvl, lvl in N.levels(time).items():\n",
    "    for patch in lvl.patches:\n",
    "        names = list(patch.patch_datas.keys())\n",
    "        print('names      : {}'.format(names))\n",
    "        print(\"id         : {}\".format(patch.id))\n",
    "        print(\"box        : {}\".format(patch.patch_datas[list(patch.patch_datas.keys())[0]].box))\n",
    "        for name in names:\n",
    "            pdata = patch.patch_datas[name]\n",
    "            # print(\"name       : {}\".format(name))\n",
    "            print(\"size [{}]  : {}   -   {}\".format(name, pdata.size, pdata.centerings))\n",
    "        print(\" --- \")\n",
    "        break"
   ]
  },
  {
   "cell_type": "code",
   "execution_count": 33,
   "id": "03277810",
   "metadata": {},
   "outputs": [],
   "source": [
    "j = B/(N*10)"
   ]
  },
  {
   "cell_type": "code",
   "execution_count": 37,
   "id": "332fde43",
   "metadata": {},
   "outputs": [
    {
     "data": {
      "text/plain": [
       "<pyphare.pharesee.hierarchy.VectorField at 0x7f2d8df348d0>"
      ]
     },
     "execution_count": 37,
     "metadata": {},
     "output_type": "execute_result"
    }
   ],
   "source": [
    "B"
   ]
  },
  {
   "cell_type": "code",
   "execution_count": 36,
   "id": "87cd27c3",
   "metadata": {},
   "outputs": [
    {
     "data": {
      "text/plain": [
       "['value']"
      ]
     },
     "execution_count": 36,
     "metadata": {},
     "output_type": "execute_result"
    }
   ],
   "source": [
    "j.quantities()"
   ]
  },
  {
   "cell_type": "code",
   "execution_count": 34,
   "id": "6c26feb8",
   "metadata": {},
   "outputs": [
    {
     "data": {
      "text/plain": [
       "['x', 'y', 'z']"
      ]
     },
     "execution_count": 34,
     "metadata": {},
     "output_type": "execute_result"
    }
   ],
   "source": [
    "(10*B).quantities()"
   ]
  },
  {
   "cell_type": "code",
   "execution_count": 35,
   "id": "fa115a4a",
   "metadata": {},
   "outputs": [
    {
     "ename": "KeyError",
     "evalue": "'x'",
     "output_type": "error",
     "traceback": [
      "\u001b[0;31m---------------------------------------------------------------------------\u001b[0m",
      "\u001b[0;31mKeyError\u001b[0m                                  Traceback (most recent call last)",
      "Cell \u001b[0;32mIn[35], line 1\u001b[0m\n\u001b[0;32m----> 1\u001b[0m \u001b[43mj\u001b[49m\u001b[38;5;241;43m.\u001b[39;49m\u001b[43mplot\u001b[49m\u001b[43m(\u001b[49m\u001b[43mqty\u001b[49m\u001b[38;5;241;43m=\u001b[39;49m\u001b[38;5;124;43m'\u001b[39;49m\u001b[38;5;124;43mx\u001b[39;49m\u001b[38;5;124;43m'\u001b[39;49m\u001b[43m,\u001b[49m\n\u001b[1;32m      2\u001b[0m \u001b[43m       \u001b[49m\u001b[38;5;66;43;03m# vmin=-0.2,\u001b[39;49;00m\n\u001b[1;32m      3\u001b[0m \u001b[43m       \u001b[49m\u001b[38;5;66;43;03m# vmax=0.2,\u001b[39;49;00m\n\u001b[1;32m      4\u001b[0m \u001b[43m       \u001b[49m\u001b[43mcmap\u001b[49m\u001b[38;5;241;43m=\u001b[39;49m\u001b[38;5;124;43m'\u001b[39;49m\u001b[38;5;124;43mviridis\u001b[39;49m\u001b[38;5;124;43m'\u001b[39;49m\u001b[43m)\u001b[49m\n",
      "File \u001b[0;32m~/codes/far/PHARE/pyphare/pyphare/pharesee/hierarchy.py:1083\u001b[0m, in \u001b[0;36mPatchHierarchy.plot\u001b[0;34m(self, **kwargs)\u001b[0m\n\u001b[1;32m   1081\u001b[0m     \u001b[38;5;28;01mreturn\u001b[39;00m \u001b[38;5;28mself\u001b[39m\u001b[38;5;241m.\u001b[39mplot1d(\u001b[38;5;241m*\u001b[39m\u001b[38;5;241m*\u001b[39mkwargs)\n\u001b[1;32m   1082\u001b[0m \u001b[38;5;28;01melif\u001b[39;00m \u001b[38;5;28mself\u001b[39m\u001b[38;5;241m.\u001b[39mndim \u001b[38;5;241m==\u001b[39m \u001b[38;5;241m2\u001b[39m:\n\u001b[0;32m-> 1083\u001b[0m     \u001b[38;5;28;01mreturn\u001b[39;00m \u001b[38;5;28;43mself\u001b[39;49m\u001b[38;5;241;43m.\u001b[39;49m\u001b[43mplot2d\u001b[49m\u001b[43m(\u001b[49m\u001b[38;5;241;43m*\u001b[39;49m\u001b[38;5;241;43m*\u001b[39;49m\u001b[43mkwargs\u001b[49m\u001b[43m)\u001b[49m\n",
      "File \u001b[0;32m~/codes/far/PHARE/pyphare/pyphare/pharesee/hierarchy.py:996\u001b[0m, in \u001b[0;36mPatchHierarchy.plot2d\u001b[0;34m(self, **kwargs)\u001b[0m\n\u001b[1;32m    993\u001b[0m     ax \u001b[38;5;241m=\u001b[39m kwargs[\u001b[38;5;124m\"\u001b[39m\u001b[38;5;124max\u001b[39m\u001b[38;5;124m\"\u001b[39m]\n\u001b[1;32m    994\u001b[0m     fig \u001b[38;5;241m=\u001b[39m ax\u001b[38;5;241m.\u001b[39mfigure\n\u001b[0;32m--> 996\u001b[0m glob_min \u001b[38;5;241m=\u001b[39m \u001b[38;5;28;43mself\u001b[39;49m\u001b[38;5;241;43m.\u001b[39;49m\u001b[43mglobal_min\u001b[49m\u001b[43m(\u001b[49m\u001b[43mqty\u001b[49m\u001b[43m)\u001b[49m\n\u001b[1;32m    997\u001b[0m glob_max \u001b[38;5;241m=\u001b[39m \u001b[38;5;28mself\u001b[39m\u001b[38;5;241m.\u001b[39mglobal_max(qty)\n\u001b[1;32m    998\u001b[0m \u001b[38;5;66;03m# assumes max 5 levels...\u001b[39;00m\n",
      "File \u001b[0;32m~/codes/far/PHARE/pyphare/pyphare/pharesee/hierarchy.py:798\u001b[0m, in \u001b[0;36mPatchHierarchy.global_min\u001b[0;34m(self, qty, **kwargs)\u001b[0m\n\u001b[1;32m    796\u001b[0m \u001b[38;5;28;01mfor\u001b[39;00m ilvl, lvl \u001b[38;5;129;01min\u001b[39;00m \u001b[38;5;28mself\u001b[39m\u001b[38;5;241m.\u001b[39mlevels(time)\u001b[38;5;241m.\u001b[39mitems():\n\u001b[1;32m    797\u001b[0m     \u001b[38;5;28;01mfor\u001b[39;00m patch \u001b[38;5;129;01min\u001b[39;00m lvl\u001b[38;5;241m.\u001b[39mpatches:\n\u001b[0;32m--> 798\u001b[0m         pd \u001b[38;5;241m=\u001b[39m \u001b[43mpatch\u001b[49m\u001b[38;5;241;43m.\u001b[39;49m\u001b[43mpatch_datas\u001b[49m\u001b[43m[\u001b[49m\u001b[43mqty\u001b[49m\u001b[43m]\u001b[49m\n\u001b[1;32m    799\u001b[0m         \u001b[38;5;28;01mif\u001b[39;00m first:\n\u001b[1;32m    800\u001b[0m             m \u001b[38;5;241m=\u001b[39m np\u001b[38;5;241m.\u001b[39mnanmin(pd\u001b[38;5;241m.\u001b[39mdataset[:])\n",
      "\u001b[0;31mKeyError\u001b[0m: 'x'"
     ]
    },
    {
     "data": {
      "image/png": "[encoded data removed]",
      "text/plain": [
       "<Figure size 640x480 with 1 Axes>"
      ]
     },
     "metadata": {},
     "output_type": "display_data"
    }
   ],
   "source": [
    "j.plot(qty='x',\n",
    "       # vmin=-0.2,\n",
    "       # vmax=0.2,\n",
    "       cmap='viridis')"
   ]
  },
  {
   "cell_type": "code",
   "execution_count": null,
   "id": "8f5e8433",
   "metadata": {},
   "outputs": [],
   "source": [
    "P = run.GetPe(time, all_primal=True)"
   ]
  },
  {
   "cell_type": "code",
   "execution_count": null,
   "id": "d7283649",
   "metadata": {},
   "outputs": [],
   "source": [
    "P.plot(qty='value',\n",
    "       #  vmin=0.4,\n",
    "       #vmax=1.2,\n",
    "       cmap='viridis')"
   ]
  },
  {
   "cell_type": "code",
   "execution_count": null,
   "id": "4b98e467",
   "metadata": {},
   "outputs": [],
   "source": [
    "q = grad(P)"
   ]
  },
  {
   "cell_type": "code",
   "execution_count": null,
   "id": "25510c3b",
   "metadata": {},
   "outputs": [],
   "source": [
    "type(q)"
   ]
  },
  {
   "cell_type": "code",
   "execution_count": null,
   "id": "f6d5d2e8",
   "metadata": {},
   "outputs": [],
   "source": [
    "q.plot(qty='y',\n",
    "       # vmin=-0.1,\n",
    "       # vmax=+0.1,\n",
    "       cmap='viridis')"
   ]
  },
  {
   "cell_type": "code",
   "execution_count": null,
   "id": "1e21e323",
   "metadata": {},
   "outputs": [],
   "source": [
    "r = grad(P)/N"
   ]
  },
  {
   "cell_type": "code",
   "execution_count": null,
   "id": "36be0c99",
   "metadata": {},
   "outputs": [],
   "source": [
    "N.quantities()"
   ]
  },
  {
   "cell_type": "code",
   "execution_count": null,
   "id": "dc49e6e0",
   "metadata": {},
   "outputs": [],
   "source": [
    "r.plot(qty='y',\n",
    "       # vmin=-0.1,\n",
    "       # vmax=+0.1,\n",
    "       cmap='viridis')"
   ]
  },
  {
   "cell_type": "code",
   "execution_count": null,
   "id": "82573c18",
   "metadata": {},
   "outputs": [],
   "source": [
    "# rho = run.GetMassDensity(time)\n",
    "e = run.GetE(time); print(type(e))\n",
    "b = run.GetB(time); print(type(b))\n",
    "r = run.GetNi(time); print(type(r))\n",
    "n = run.GetN(time, \"protons\"); print(type(n))\n",
    "v = run.GetVi(time); print(type(v))\n",
    "F = run.GetFlux(time, \"protons\"); print(type(F))\n",
    "j = run.GetJ(time); print(type(j))"
   ]
  },
  {
   "cell_type": "code",
   "execution_count": null,
   "id": "2720ca64",
   "metadata": {},
   "outputs": [],
   "source": []
  },
  {
   "cell_type": "code",
   "execution_count": null,
   "id": "ddcc1d0c",
   "metadata": {},
   "outputs": [],
   "source": [
    "N+N"
   ]
  },
  {
   "cell_type": "code",
   "execution_count": null,
   "id": "051a492e",
   "metadata": {},
   "outputs": [],
   "source": []
  },
  {
   "cell_type": "code",
   "execution_count": null,
   "id": "714f93f1",
   "metadata": {},
   "outputs": [],
   "source": []
  },
  {
   "cell_type": "code",
   "execution_count": null,
   "id": "179c5e33",
   "metadata": {},
   "outputs": [],
   "source": []
  },
  {
   "cell_type": "code",
   "execution_count": null,
   "id": "0c51acf9",
   "metadata": {},
   "outputs": [],
   "source": []
  },
  {
   "cell_type": "code",
   "execution_count": null,
   "id": "0debe6ca",
   "metadata": {},
   "outputs": [],
   "source": [
    "import h5py\n",
    "# f=h5py.File(os.path.join(run_path, 'EM_B.h5'), 'r')\n",
    "f=h5py.File(os.path.join(run_path, 'ions_density.h5'), 'r')\n",
    "print(list(f.attrs))\n",
    "# print(list(f['t'].keys()))\n",
    "# print(list(f['t']['2.0000000000'].keys()))\n",
    "print(list(f))\n",
    "print(list(f['py_attrs'].attrs.items()))\n",
    "# print(f['t'].values())"
   ]
  },
  {
   "cell_type": "code",
   "execution_count": null,
   "id": "988d4058",
   "metadata": {},
   "outputs": [],
   "source": []
  },
  {
   "cell_type": "code",
   "execution_count": null,
   "id": "199a964c",
   "metadata": {},
   "outputs": [],
   "source": []
  }
 ],
 "metadata": {
  "kernelspec": {
   "display_name": "Python 3 (ipykernel)",
   "language": "python",
   "name": "python3"
  },
  "language_info": {
   "codemirror_mode": {
    "name": "ipython",
    "version": 3
   },
   "file_extension": ".py",
   "mimetype": "text/x-python",
   "name": "python",
   "nbconvert_exporter": "python",
   "pygments_lexer": "ipython3",
   "version": "3.11.6"
  }
 },
 "nbformat": 4,
 "nbformat_minor": 5
}
